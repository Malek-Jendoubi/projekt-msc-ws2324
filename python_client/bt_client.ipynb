{
 "cells": [
  {
   "cell_type": "code",
   "execution_count": 3,
   "metadata": {},
   "outputs": [
    {
     "ename": "ImportError",
     "evalue": "cannot import name 'Bluetooth' from 'network' (C:\\Users\\Lenovo\\AppData\\Roaming\\Python\\Python312\\site-packages\\network.py)",
     "output_type": "error",
     "traceback": [
      "\u001b[1;31m---------------------------------------------------------------------------\u001b[0m",
      "\u001b[1;31mImportError\u001b[0m                               Traceback (most recent call last)",
      "Cell \u001b[1;32mIn[3], line 1\u001b[0m\n\u001b[1;32m----> 1\u001b[0m \u001b[38;5;28;01mfrom\u001b[39;00m \u001b[38;5;21;01mnetwork\u001b[39;00m \u001b[38;5;28;01mimport\u001b[39;00m Bluetooth\n\u001b[0;32m      2\u001b[0m \u001b[38;5;28;01mimport\u001b[39;00m \u001b[38;5;21;01mtime\u001b[39;00m\n\u001b[0;32m      3\u001b[0m bt \u001b[38;5;241m=\u001b[39m Bluetooth()\n",
      "\u001b[1;31mImportError\u001b[0m: cannot import name 'Bluetooth' from 'network' (C:\\Users\\Lenovo\\AppData\\Roaming\\Python\\Python312\\site-packages\\network.py)"
     ]
    }
   ],
   "source": [
    "from network import Bluetooth\n",
    "import time\n",
    "bt = Bluetooth()\n",
    "bt.start_scan(-1)\n",
    "\n",
    "while True:\n",
    "  adv = bt.get_adv()\n",
    "  if adv and bt.resolve_adv_data(adv.data, Bluetooth.ADV_NAME_CMPL) == 'Heart Rate':\n",
    "      try:\n",
    "          conn = bt.connect(adv.mac)\n",
    "          services = conn.services()\n",
    "          for service in services:\n",
    "              time.sleep(0.050)\n",
    "              if type(service.uuid()) == bytes:\n",
    "                  print('Reading chars from service = {}'.format(service.uuid()))\n",
    "              else:\n",
    "                  print('Reading chars from service = %x' % service.uuid())\n",
    "              chars = service.characteristics()\n",
    "              for char in chars:\n",
    "                  if (char.properties() & Bluetooth.PROP_READ):\n",
    "                      print('char {} value = {}'.format(char.uuid(), char.read()))\n",
    "          conn.disconnect()\n",
    "          break\n",
    "      except:\n",
    "          pass\n",
    "  else:\n",
    "      time.sleep(0.050)"
   ]
  }
 ],
 "metadata": {
  "kernelspec": {
   "display_name": "Python 3",
   "language": "python",
   "name": "python3"
  },
  "language_info": {
   "codemirror_mode": {
    "name": "ipython",
    "version": 3
   },
   "file_extension": ".py",
   "mimetype": "text/x-python",
   "name": "python",
   "nbconvert_exporter": "python",
   "pygments_lexer": "ipython3",
   "version": "3.12.1"
  }
 },
 "nbformat": 4,
 "nbformat_minor": 2
}
